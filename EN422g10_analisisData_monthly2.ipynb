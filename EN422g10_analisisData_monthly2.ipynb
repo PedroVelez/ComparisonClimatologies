{
 "cells": [
  {
   "cell_type": "code",
   "execution_count": null,
   "id": "1df62f37-e43c-4f83-9107-5cebfdbacca9",
   "metadata": {},
   "outputs": [],
   "source": [
    "import matplotlib.pyplot as plt  # plotting library\n",
    "import numpy as np  # numerical library\n",
    "import xarray as xr  # netCDF library\n",
    "import cartopy  # Map projections libary\n",
    "import cartopy.crs as ccrs  # Projections list\n",
    "import cftime\n",
    "import pandas as pd\n",
    "\n",
    "# Some defaults:\n",
    "plt.rcParams['figure.figsize'] = (12, 5)  # Default plot size"
   ]
  },
  {
   "cell_type": "code",
   "execution_count": null,
   "id": "cc7ff29f-a5d3-4037-99af-8ff04cd5ae89",
   "metadata": {},
   "outputs": [],
   "source": [
    "#To compute de climatoloy\n",
    "yearC1='2004'\n",
    "yearC2='2014'"
   ]
  },
  {
   "cell_type": "markdown",
   "id": "ed81d455-783c-49a0-90cf-f9bd38078e2e",
   "metadata": {},
   "source": [
    "## Read the data"
   ]
  },
  {
   "cell_type": "code",
   "execution_count": null,
   "id": "461e00c5-dfa0-4e28-a0fb-5b2250a75ffe",
   "metadata": {},
   "outputs": [],
   "source": [
    "EN=xr.open_dataset('EN_Global_Jan1950_Dic2023.nc')"
   ]
  },
  {
   "cell_type": "code",
   "execution_count": null,
   "id": "073954dc-cffb-4221-b2e9-a089d17ac0d7",
   "metadata": {},
   "outputs": [],
   "source": [
    "EN"
   ]
  },
  {
   "cell_type": "code",
   "execution_count": null,
   "id": "6686ebee-8b61-4849-9c70-b662830e6397",
   "metadata": {},
   "outputs": [],
   "source": [
    "EN_temp=EN.temperature.sel(lat=slice( -60, 60))\n",
    "EN_salt=EN.salinity.sel(lat=slice( -60, 60))"
   ]
  },
  {
   "cell_type": "markdown",
   "id": "5839f086-a16f-457f-afe0-4d6e684ce7a2",
   "metadata": {},
   "source": [
    "## Seasonal cycle\n",
    "Create seasonal climatology from 1982 to 1992 and the asociated anomaly"
   ]
  },
  {
   "cell_type": "code",
   "execution_count": null,
   "id": "004decdc-0a69-4ed9-80fe-535530e7c426",
   "metadata": {},
   "outputs": [],
   "source": [
    "#Create monthly climatology\n",
    "EN_temp_clim = EN_temp.sel(time=slice(yearC1,yearC2)).groupby('time.month').mean(dim='time').load();\n",
    "EN_salt_clim = EN_salt.sel(time=slice(yearC1,yearC2)).groupby('time.month').mean(dim='time').load();\n",
    "\n",
    "#Create anomaly\n",
    "EN_temp_anom = EN_temp.groupby('time.month') - EN_temp_clim\n",
    "EN_temp_anom.load();\n",
    "\n",
    "EN_salt_anom = EN_salt.groupby('time.month') - EN_salt_clim\n",
    "EN_salt_anom.load();"
   ]
  },
  {
   "cell_type": "code",
   "execution_count": null,
   "id": "0944fb7a-743e-4eaf-9224-752d51a40eb7",
   "metadata": {},
   "outputs": [],
   "source": [
    "fig, ax = plt.subplots(1, 1 , figsize=(5,5))\n",
    "ax.contourf(EN_temp_clim.mean(dim='lon').sel(depth=10,method=\"nearest\").month,\n",
    "                 EN_temp_clim.mean(dim='lon').sel(depth=10,method=\"nearest\").lat,\n",
    "                 EN_temp_clim.mean(dim='lon').sel(depth=10,method=\"nearest\").transpose(),levels=12, vmin=-2, vmax=30)\n",
    "ax.set_ylim(-78,78)\n",
    "ax.grid()\n",
    "ax.set_title('Seasonal Climatoloy (' + yearC1 + '-' + yearC2 + ')')\n",
    "ax.set_ylabel('Latitude') \n",
    "ax.set_xlabel('Month')\n",
    "ax.grid()"
   ]
  },
  {
   "cell_type": "markdown",
   "id": "2cbff2d6-8aac-414d-8b1f-19a714ee9c01",
   "metadata": {},
   "source": [
    "# Weighted"
   ]
  },
  {
   "cell_type": "code",
   "execution_count": null,
   "id": "ff8e62c3-4a11-4b00-acf0-9a0d2691505a",
   "metadata": {},
   "outputs": [],
   "source": [
    "weights = np.cos(np.deg2rad(EN.temperature.lat))\n",
    "weights = weights/weights.max()\n",
    "weights.name = \"weights\"\n",
    "EN_temp_weighted = EN_temp.weighted(weights)\n",
    "EN_salt_weighted = EN_salt.weighted(weights)\n",
    "EN_temp_anom_weighted = EN_temp_anom.weighted(weights)\n",
    "EN_salt_anom_weighted = EN_salt_anom.weighted(weights)\n",
    "\n",
    "\n",
    "EN_temp_wmean = EN_temp_weighted.mean((\"lon\", \"lat\"),skipna=True).load()\n",
    "EN_salt_wmean = EN_salt_weighted.mean((\"lon\", \"lat\"),skipna=True).load()\n",
    "\n",
    "EN_temp_anom_wmean = EN_temp_anom_weighted.mean((\"lon\", \"lat\"),skipna=True).load()\n",
    "EN_salt_anom_wmean = EN_salt_anom_weighted.mean((\"lon\", \"lat\"),skipna=True).load()"
   ]
  },
  {
   "cell_type": "markdown",
   "id": "2001d285-0b03-4143-8544-79a1b1472602",
   "metadata": {},
   "source": [
    "## smoothed versions"
   ]
  },
  {
   "cell_type": "code",
   "execution_count": null,
   "id": "98bff5c5-7db8-4eea-8998-df65fb2a094c",
   "metadata": {},
   "outputs": [],
   "source": [
    "EN_temp_wmean_rolling = EN_temp_wmean.rolling(time=12,center=True).mean()\n",
    "EN_salt_wmean_rolling = EN_salt_wmean.rolling(time=12,center=True).mean()\n",
    "\n",
    "EN_temp_anom_wmean_rolling = EN_temp_anom_wmean.rolling(time=12,center=True).mean()\n",
    "EN_salt_anom_wmean_rolling = EN_salt_anom_wmean.rolling(time=12,center=True).mean()"
   ]
  },
  {
   "cell_type": "code",
   "execution_count": null,
   "id": "38994198-32c0-476a-ba89-4e6aad9d0acf",
   "metadata": {},
   "outputs": [],
   "source": [
    "fig, ax = plt.subplots(5 , 1 , figsize = (14,14))\n",
    "levels = ['10','100','500','1000','1900']\n",
    "i1=0\n",
    "for ipre in levels:\n",
    "    ax[i1].plot(EN.time,EN_temp_wmean.sel(depth=ipre,method=\"nearest\"),label=('pressure ' + ipre ))\n",
    "    ax[i1].plot(EN.time,EN_temp_wmean_rolling.sel(depth=ipre,method=\"nearest\"))\n",
    "    ax[i1].grid(linestyle='-', linewidth=.9)\n",
    "    #ax[i1].xaxis.set_tick_params(labelbottom=False)\n",
    "    ax[i1].legend();\n",
    "    i1=i1+1\n"
   ]
  },
  {
   "cell_type": "code",
   "execution_count": null,
   "id": "1eefa8d9-b17e-4d45-834e-d5a9605b5832",
   "metadata": {},
   "outputs": [],
   "source": [
    "fig, ax = plt.subplots(5 , 1 , figsize = (14,14))\n",
    "levels = ['10','100','500','1000','1900']\n",
    "i1=0\n",
    "for ipre in levels:\n",
    "    ax[i1].plot(EN.time,EN_temp_anom_wmean.sel(depth=ipre,method=\"nearest\"),label=('pressure ' + ipre ))\n",
    "    ax[i1].plot(EN.time,EN_temp_anom_wmean_rolling.sel(depth=ipre,method=\"nearest\"))\n",
    "    ax[i1].grid(linestyle='-', linewidth=.9)\n",
    "    #ax[i1].xaxis.set_tick_params(labelbottom=False)\n",
    "    ax[i1].legend();\n",
    "    i1=i1+1"
   ]
  },
  {
   "cell_type": "code",
   "execution_count": null,
   "id": "74ae563d-e404-4368-a75f-e922038bee8f",
   "metadata": {},
   "outputs": [],
   "source": []
  }
 ],
 "metadata": {
  "kernelspec": {
   "display_name": "Python 3 (ipykernel)",
   "language": "python",
   "name": "python3"
  },
  "language_info": {
   "codemirror_mode": {
    "name": "ipython",
    "version": 3
   },
   "file_extension": ".py",
   "mimetype": "text/x-python",
   "name": "python",
   "nbconvert_exporter": "python",
   "pygments_lexer": "ipython3",
   "version": "3.11.7"
  }
 },
 "nbformat": 4,
 "nbformat_minor": 5
}
