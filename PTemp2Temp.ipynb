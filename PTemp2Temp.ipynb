{
 "cells": [
  {
   "cell_type": "code",
   "execution_count": 1,
   "id": "a42996b7-cdc0-4399-8076-ca11dd6eca54",
   "metadata": {},
   "outputs": [],
   "source": [
    "import xarray as xr\n",
    "import numpy as np\n",
    "import seawater as sw\n",
    "import matplotlib.pyplot as plt"
   ]
  },
  {
   "cell_type": "code",
   "execution_count": 2,
   "id": "3c6f3d74-2256-479d-a4f4-c5d5eb93e256",
   "metadata": {},
   "outputs": [],
   "source": [
    "path = \"~/Analisis/ComparisonClimatologies/Data/\"\n",
    "path='/Users/pvb/Dropbox/Oceanografia/Data/Climatologias/'\n",
    "file = \"cmems_mod_glo_phy_my_0.083deg_P1M-m_so-thetao_90.00W-10.00W_20.50N-28.50N_0.49-1941.89m_1993-01-01-2021-06-01.nc\""
   ]
  },
  {
   "cell_type": "code",
   "execution_count": 3,
   "id": "a9f684ca-a7d4-4d72-be22-a753777febc4",
   "metadata": {},
   "outputs": [],
   "source": [
    "ds = xr.open_dataset(path+file)"
   ]
  },
  {
   "cell_type": "code",
   "execution_count": 4,
   "id": "0b8eb3af-0d7c-4588-86ad-59bed44e2774",
   "metadata": {},
   "outputs": [],
   "source": [
    "# Convertir profundidades a presiones\n",
    "lati = 24.5\n",
    "depths = ds.depth.values\n",
    "pressure = sw.pres(depths, lati)\n",
    "ds = ds.assign_coords(depth=(\"depth\", pressure)).rename({'depth': 'pressure'})"
   ]
  },
  {
   "cell_type": "code",
   "execution_count": 5,
   "id": "e4207e08-ba87-4d8e-acc9-0db273813a09",
   "metadata": {},
   "outputs": [],
   "source": [
    "pre=ds[\"pressure\"].values\n",
    "salt=ds[\"so\"].values\n",
    "ptemp=ds[\"thetao\"].values"
   ]
  },
  {
   "cell_type": "code",
   "execution_count": 10,
   "id": "29aa7472-2126-4039-8855-077df99c4b58",
   "metadata": {},
   "outputs": [],
   "source": [
    "preM = np.tile(pre[np.newaxis, :, np.newaxis, np.newaxis], ((342, 1, 97,961)))"
   ]
  },
  {
   "cell_type": "code",
   "execution_count": 11,
   "id": "d4f1111d-9041-4ff4-95fc-e28f898a62d3",
   "metadata": {},
   "outputs": [
    {
     "data": {
      "text/plain": [
       "(342, 40, 97, 961)"
      ]
     },
     "execution_count": 11,
     "metadata": {},
     "output_type": "execute_result"
    }
   ],
   "source": [
    "preM2.shape"
   ]
  },
  {
   "cell_type": "code",
   "execution_count": null,
   "id": "781ae789-28f9-401e-9d20-75174f9c02f4",
   "metadata": {},
   "outputs": [],
   "source": [
    "preM2 = np.tile(pre[np.newaxis, :, np.newaxis, np.newaxis], ((342, 40, 97,961)))"
   ]
  },
  {
   "cell_type": "code",
   "execution_count": null,
   "id": "fff3f6a1-c13b-4863-a4bc-7d0c580ac859",
   "metadata": {},
   "outputs": [],
   "source": [
    "temp_in_situ = sw.temp(preM, ptemp, salt)"
   ]
  },
  {
   "cell_type": "code",
   "execution_count": null,
   "id": "4ad4c3b0-d23f-463e-bd3f-9d67745118ba",
   "metadata": {},
   "outputs": [],
   "source": [
    "temp_in_situ.shape"
   ]
  },
  {
   "cell_type": "code",
   "execution_count": null,
   "id": "74d7faf9-e723-45ee-ac25-a765d4871e2e",
   "metadata": {},
   "outputs": [],
   "source": []
  },
  {
   "cell_type": "code",
   "execution_count": 121,
   "id": "75f678de-b02a-42fa-909a-eaf1f1c5c8f1",
   "metadata": {},
   "outputs": [],
   "source": [
    "preM1 = np.tile(pre[np.newaxis, :, np.newaxis], ((342, 1, 97)))\n",
    "preM2 = np.tile(preM1[:,:,:,np.newaxis], ((1,961)))"
   ]
  },
  {
   "cell_type": "code",
   "execution_count": 122,
   "id": "e1ea59bc-182c-415c-9831-eceffd4b5850",
   "metadata": {},
   "outputs": [
    {
     "data": {
      "text/plain": [
       "(342, 40, 97)"
      ]
     },
     "execution_count": 122,
     "metadata": {},
     "output_type": "execute_result"
    }
   ],
   "source": [
    "preM1.shape"
   ]
  },
  {
   "cell_type": "code",
   "execution_count": 140,
   "id": "6df095bc-3420-47b0-a75d-bbde45ed6f24",
   "metadata": {},
   "outputs": [],
   "source": []
  },
  {
   "cell_type": "code",
   "execution_count": 145,
   "id": "eb6c337f-96da-43bf-8835-fd5ef818dbfc",
   "metadata": {},
   "outputs": [
    {
     "data": {
      "text/plain": [
       "array([4.9895290e-01, 1.5642848e+00, 2.6700723e+00, 3.8432858e+00,\n",
       "       5.1243811e+00, 6.4863877e+00, 7.9967318e+00, 9.6419277e+00,\n",
       "       1.1489402e+01, 1.3566125e+01, 1.5926037e+01, 1.8623079e+01,\n",
       "       2.1751650e+01, 2.5392656e+01, 2.9653984e+01, 3.4683968e+01,\n",
       "       4.0630947e+01, 4.7710686e+01, 5.6152428e+01, 6.6279823e+01,\n",
       "       7.8416519e+01, 9.2980545e+01, 1.1051132e+02, 1.3160220e+02,\n",
       "       1.5698137e+02, 1.8748492e+02, 2.2412425e+02, 2.6803210e+02,\n",
       "       3.2055701e+02, 3.8315536e+02, 4.5752634e+02, 5.4547687e+02,\n",
       "       6.4893542e+02, 7.6989783e+02, 9.1038678e+02, 1.0723037e+03,\n",
       "       1.2573748e+03, 1.4670159e+03, 1.7023059e+03, 1.9638247e+03],\n",
       "      dtype=float32)"
      ]
     },
     "execution_count": 145,
     "metadata": {},
     "output_type": "execute_result"
    }
   ],
   "source": [
    "preM3[1,:,4,1]"
   ]
  },
  {
   "cell_type": "code",
   "execution_count": 146,
   "id": "9d4e7115-922b-4ff9-979a-7464d3ad7747",
   "metadata": {},
   "outputs": [
    {
     "data": {
      "image/png": "[encoded data removed]",
      "text/plain": [
       "<Figure size 640x480 with 1 Axes>"
      ]
     },
     "metadata": {},
     "output_type": "display_data"
    }
   ],
   "source": [
    "plt.plot(preM3[1,:,4,1],'o');\n"
   ]
  },
  {
   "cell_type": "code",
   "execution_count": null,
   "id": "18379b74-98cf-46d7-b0d5-a3db7cedc9ed",
   "metadata": {},
   "outputs": [],
   "source": []
  }
 ],
 "metadata": {
  "kernelspec": {
   "display_name": "Python 3 (ipykernel)",
   "language": "python",
   "name": "python3"
  },
  "language_info": {
   "codemirror_mode": {
    "name": "ipython",
    "version": 3
   },
   "file_extension": ".py",
   "mimetype": "text/x-python",
   "name": "python",
   "nbconvert_exporter": "python",
   "pygments_lexer": "ipython3",
   "version": "3.11.9"
  }
 },
 "nbformat": 4,
 "nbformat_minor": 5
}
