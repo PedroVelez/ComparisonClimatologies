{
 "cells": [
  {
   "cell_type": "code",
   "execution_count": 14,
   "id": "1df62f37-e43c-4f83-9107-5cebfdbacca9",
   "metadata": {},
   "outputs": [],
   "source": [
    "import numpy as np  # numerical library\n",
    "import xarray as xr  # netCDF library\n",
    "import pandas as pd\n",
    "\n",
    "import matplotlib.pyplot as plt  # plotting library\n",
    "import cartopy  # Map projections libary\n",
    "import cartopy.crs as ccrs  # Projections list\n",
    "import cftime\n",
    "\n",
    "import seawater as sw"
   ]
  },
  {
   "cell_type": "code",
   "execution_count": 15,
   "id": "2c6451a5-1c4f-4f53-846c-a84713cd6025",
   "metadata": {},
   "outputs": [],
   "source": [
    "import scipy.io as sio"
   ]
  },
  {
   "cell_type": "code",
   "execution_count": 16,
   "id": "19da98e9-5a78-46bc-9de3-af16bf5de662",
   "metadata": {},
   "outputs": [],
   "source": [
    "import scipy.io as sio\n",
    "matData = sio.loadmat('./Data/1957.mat')"
   ]
  },
  {
   "cell_type": "code",
   "execution_count": 17,
   "id": "e9103012-590e-423b-a00a-64a009e8de00",
   "metadata": {},
   "outputs": [
    {
     "data": {
      "text/plain": [
       "dict_keys(['__header__', '__version__', '__globals__', 'dyns', 'gams', 'jdays', 'lats', 'lons', 'pres', 'sals', 'tems'])"
      ]
     },
     "execution_count": 17,
     "metadata": {},
     "output_type": "execute_result"
    }
   ],
   "source": [
    "matData.keys()"
   ]
  },
  {
   "cell_type": "code",
   "execution_count": 19,
   "id": "36f7395d-334f-4996-9b77-d7b311fc7484",
   "metadata": {},
   "outputs": [
    {
     "name": "stdout",
     "output_type": "stream",
     "text": [
      "[715059 715059 715059 715060 715060 715060 715061 715061 715062 715062\n",
      " 715063 715063 715064 715065 715065 715066 715066 715067 715068 715069\n",
      " 715069 715070 715071 715073 715073 715074 715074 715078 715079 715079\n",
      " 715080 715080 715081]\n"
     ]
    }
   ],
   "source": [
    "jdays = matData.get('jdays').flatten()\n",
    "print(jdays)"
   ]
  },
  {
   "cell_type": "code",
   "execution_count": null,
   "id": "f0c9c489-8126-4087-9def-46b4796df806",
   "metadata": {},
   "outputs": [],
   "source": []
  }
 ],
 "metadata": {
  "kernelspec": {
   "display_name": "Python 3 (ipykernel)",
   "language": "python",
   "name": "python3"
  },
  "language_info": {
   "codemirror_mode": {
    "name": "ipython",
    "version": 3
   },
   "file_extension": ".py",
   "mimetype": "text/x-python",
   "name": "python",
   "nbconvert_exporter": "python",
   "pygments_lexer": "ipython3",
   "version": "3.11.9"
  }
 },
 "nbformat": 4,
 "nbformat_minor": 5
}
